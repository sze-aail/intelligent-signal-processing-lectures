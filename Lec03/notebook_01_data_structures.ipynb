{
 "cells": [
  {
   "metadata": {},
   "cell_type": "markdown",
   "source": [
    "# Datastructures\n",
    "\n",
    "## Lists\n",
    "Create a list in Python with some items."
   ],
   "id": "dd27e47686f7bd2e"
  },
  {
   "cell_type": "code",
   "id": "initial_id",
   "metadata": {
    "collapsed": true,
    "ExecuteTime": {
     "end_time": "2025-03-26T13:20:10.039096Z",
     "start_time": "2025-03-26T13:20:10.031764Z"
    }
   },
   "source": [
    "from itertools import count\n",
    "\n",
    "li = [3, 7, 8, 42, 9]"
   ],
   "outputs": [],
   "execution_count": 1
  },
  {
   "metadata": {
    "ExecuteTime": {
     "end_time": "2025-03-26T13:20:12.483153Z",
     "start_time": "2025-03-26T13:20:12.475541Z"
    }
   },
   "cell_type": "code",
   "source": "li",
   "id": "31e682f984416787",
   "outputs": [
    {
     "data": {
      "text/plain": [
       "[3, 7, 8, 42, 9]"
      ]
     },
     "execution_count": 2,
     "metadata": {},
     "output_type": "execute_result"
    }
   ],
   "execution_count": 2
  },
  {
   "metadata": {
    "ExecuteTime": {
     "end_time": "2025-03-26T13:20:53.880286Z",
     "start_time": "2025-03-26T13:20:53.875525Z"
    }
   },
   "cell_type": "code",
   "source": "li.append(2)",
   "id": "cb14fe44817201ae",
   "outputs": [],
   "execution_count": 3
  },
  {
   "metadata": {
    "ExecuteTime": {
     "end_time": "2025-03-26T13:20:56.254090Z",
     "start_time": "2025-03-26T13:20:56.247896Z"
    }
   },
   "cell_type": "code",
   "source": "li",
   "id": "ee2f93d32a983757",
   "outputs": [
    {
     "data": {
      "text/plain": [
       "[3, 7, 8, 42, 9, 2]"
      ]
     },
     "execution_count": 4,
     "metadata": {},
     "output_type": "execute_result"
    }
   ],
   "execution_count": 4
  },
  {
   "metadata": {
    "ExecuteTime": {
     "end_time": "2025-03-26T13:21:22.784056Z",
     "start_time": "2025-03-26T13:21:22.777464Z"
    }
   },
   "cell_type": "code",
   "source": "min(li)",
   "id": "58a8b4ae9882d989",
   "outputs": [
    {
     "data": {
      "text/plain": [
       "2"
      ]
     },
     "execution_count": 5,
     "metadata": {},
     "output_type": "execute_result"
    }
   ],
   "execution_count": 5
  },
  {
   "metadata": {
    "ExecuteTime": {
     "end_time": "2025-03-26T13:21:31.629968Z",
     "start_time": "2025-03-26T13:21:31.623811Z"
    }
   },
   "cell_type": "code",
   "source": "max(li)",
   "id": "665454b46635044d",
   "outputs": [
    {
     "data": {
      "text/plain": [
       "42"
      ]
     },
     "execution_count": 6,
     "metadata": {},
     "output_type": "execute_result"
    }
   ],
   "execution_count": 6
  },
  {
   "metadata": {
    "ExecuteTime": {
     "end_time": "2025-03-26T13:22:00.048056Z",
     "start_time": "2025-03-26T13:22:00.040954Z"
    }
   },
   "cell_type": "code",
   "source": "sorted(li)",
   "id": "45d6476f670324f6",
   "outputs": [
    {
     "data": {
      "text/plain": [
       "[2, 3, 7, 8, 9, 42]"
      ]
     },
     "execution_count": 7,
     "metadata": {},
     "output_type": "execute_result"
    }
   ],
   "execution_count": 7
  },
  {
   "metadata": {
    "ExecuteTime": {
     "end_time": "2025-03-26T13:22:48.051965Z",
     "start_time": "2025-03-26T13:22:48.045342Z"
    }
   },
   "cell_type": "code",
   "source": "li",
   "id": "9d15a965e4ef2da7",
   "outputs": [
    {
     "data": {
      "text/plain": [
       "[3, 7, 8, 42, 9, 2]"
      ]
     },
     "execution_count": 8,
     "metadata": {},
     "output_type": "execute_result"
    }
   ],
   "execution_count": 8
  },
  {
   "metadata": {
    "ExecuteTime": {
     "end_time": "2025-03-26T13:23:09.743117Z",
     "start_time": "2025-03-26T13:23:09.736543Z"
    }
   },
   "cell_type": "code",
   "source": [
    "sorted_list = sorted(li)\n",
    "sorted_list"
   ],
   "id": "a992b81de08003a0",
   "outputs": [
    {
     "data": {
      "text/plain": [
       "[2, 3, 7, 8, 9, 42]"
      ]
     },
     "execution_count": 10,
     "metadata": {},
     "output_type": "execute_result"
    }
   ],
   "execution_count": 10
  },
  {
   "metadata": {
    "ExecuteTime": {
     "end_time": "2025-03-26T13:23:47.591516Z",
     "start_time": "2025-03-26T13:23:47.584530Z"
    }
   },
   "cell_type": "code",
   "source": "help(sorted)",
   "id": "770c27e198dcc1e3",
   "outputs": [
    {
     "name": "stdout",
     "output_type": "stream",
     "text": [
      "Help on built-in function sorted in module builtins:\n",
      "\n",
      "sorted(iterable, /, *, key=None, reverse=False)\n",
      "    Return a new list containing all items from the iterable in ascending order.\n",
      "\n",
      "    A custom key function can be supplied to customize the sort order, and the\n",
      "    reverse flag can be set to request the result in descending order.\n",
      "\n"
     ]
    }
   ],
   "execution_count": 11
  },
  {
   "metadata": {
    "ExecuteTime": {
     "end_time": "2025-03-26T13:25:31.799029Z",
     "start_time": "2025-03-26T13:25:31.792585Z"
    }
   },
   "cell_type": "code",
   "source": [
    "li.sort()\n",
    "li"
   ],
   "id": "aa3549e86dddbd5a",
   "outputs": [
    {
     "data": {
      "text/plain": [
       "[2, 3, 7, 8, 9, 42]"
      ]
     },
     "execution_count": 13,
     "metadata": {},
     "output_type": "execute_result"
    }
   ],
   "execution_count": 13
  },
  {
   "metadata": {
    "ExecuteTime": {
     "end_time": "2025-03-26T13:29:43.693815Z",
     "start_time": "2025-03-26T13:29:43.688231Z"
    }
   },
   "cell_type": "code",
   "source": "7 in li",
   "id": "3a5820d2e85d0530",
   "outputs": [
    {
     "data": {
      "text/plain": [
       "True"
      ]
     },
     "execution_count": 19,
     "metadata": {},
     "output_type": "execute_result"
    }
   ],
   "execution_count": 19
  },
  {
   "metadata": {
    "ExecuteTime": {
     "end_time": "2025-03-26T13:29:53.408727Z",
     "start_time": "2025-03-26T13:29:53.403109Z"
    }
   },
   "cell_type": "code",
   "source": "1 in li",
   "id": "adc5e8dcb935b3f3",
   "outputs": [
    {
     "data": {
      "text/plain": [
       "False"
      ]
     },
     "execution_count": 20,
     "metadata": {},
     "output_type": "execute_result"
    }
   ],
   "execution_count": 20
  },
  {
   "metadata": {
    "ExecuteTime": {
     "end_time": "2025-03-26T13:30:13.309551Z",
     "start_time": "2025-03-26T13:30:13.303306Z"
    }
   },
   "cell_type": "code",
   "source": "li[5]",
   "id": "c052d8277d8dac3f",
   "outputs": [
    {
     "data": {
      "text/plain": [
       "42"
      ]
     },
     "execution_count": 21,
     "metadata": {},
     "output_type": "execute_result"
    }
   ],
   "execution_count": 21
  },
  {
   "metadata": {
    "ExecuteTime": {
     "end_time": "2025-03-26T13:30:21.243079Z",
     "start_time": "2025-03-26T13:30:21.237878Z"
    }
   },
   "cell_type": "code",
   "source": "li[-2]",
   "id": "eae52b36100d05f0",
   "outputs": [
    {
     "data": {
      "text/plain": [
       "9"
      ]
     },
     "execution_count": 22,
     "metadata": {},
     "output_type": "execute_result"
    }
   ],
   "execution_count": 22
  },
  {
   "metadata": {
    "ExecuteTime": {
     "end_time": "2025-03-26T13:31:21.155136Z",
     "start_time": "2025-03-26T13:31:21.149204Z"
    }
   },
   "cell_type": "code",
   "source": "li[::2]",
   "id": "710560dcb9d40682",
   "outputs": [
    {
     "data": {
      "text/plain": [
       "[2, 7, 9]"
      ]
     },
     "execution_count": 25,
     "metadata": {},
     "output_type": "execute_result"
    }
   ],
   "execution_count": 25
  },
  {
   "metadata": {
    "ExecuteTime": {
     "end_time": "2025-03-26T13:31:12.865259Z",
     "start_time": "2025-03-26T13:31:12.859689Z"
    }
   },
   "cell_type": "code",
   "source": "li[:3]",
   "id": "f2df49d929eea224",
   "outputs": [
    {
     "data": {
      "text/plain": [
       "[2, 3, 7]"
      ]
     },
     "execution_count": 24,
     "metadata": {},
     "output_type": "execute_result"
    }
   ],
   "execution_count": 24
  },
  {
   "metadata": {
    "ExecuteTime": {
     "end_time": "2025-03-26T13:31:49.836265Z",
     "start_time": "2025-03-26T13:31:49.830402Z"
    }
   },
   "cell_type": "code",
   "source": "li[::-1]",
   "id": "433b435d2e35808f",
   "outputs": [
    {
     "data": {
      "text/plain": [
       "[42, 9, 8, 7, 3, 2]"
      ]
     },
     "execution_count": 26,
     "metadata": {},
     "output_type": "execute_result"
    }
   ],
   "execution_count": 26
  },
  {
   "metadata": {
    "ExecuteTime": {
     "end_time": "2025-03-26T13:32:35.608033Z",
     "start_time": "2025-03-26T13:32:35.602484Z"
    }
   },
   "cell_type": "code",
   "source": "li[1:4]",
   "id": "9e4cb3be6dc22366",
   "outputs": [
    {
     "data": {
      "text/plain": [
       "[3, 7, 8]"
      ]
     },
     "execution_count": 27,
     "metadata": {},
     "output_type": "execute_result"
    }
   ],
   "execution_count": 27
  },
  {
   "metadata": {
    "ExecuteTime": {
     "end_time": "2025-03-26T13:32:48.470264Z",
     "start_time": "2025-03-26T13:32:48.463538Z"
    }
   },
   "cell_type": "code",
   "source": "li[4:2:-1]",
   "id": "a233fc6d4b64969a",
   "outputs": [
    {
     "data": {
      "text/plain": [
       "[9, 8]"
      ]
     },
     "execution_count": 29,
     "metadata": {},
     "output_type": "execute_result"
    }
   ],
   "execution_count": 29
  },
  {
   "metadata": {
    "ExecuteTime": {
     "end_time": "2025-03-26T13:58:15.873228Z",
     "start_time": "2025-03-26T13:58:15.867219Z"
    }
   },
   "cell_type": "code",
   "source": [
    "li.append(2)\n",
    "li"
   ],
   "id": "c063fdc757ca4c89",
   "outputs": [
    {
     "data": {
      "text/plain": [
       "[2, 3, 7, 8, 9, 42, 2]"
      ]
     },
     "execution_count": 84,
     "metadata": {},
     "output_type": "execute_result"
    }
   ],
   "execution_count": 84
  },
  {
   "metadata": {
    "ExecuteTime": {
     "end_time": "2025-03-26T13:58:34.387901Z",
     "start_time": "2025-03-26T13:58:34.381672Z"
    }
   },
   "cell_type": "code",
   "source": "sorted(li)",
   "id": "4dc6f2f18b287232",
   "outputs": [
    {
     "data": {
      "text/plain": [
       "[2, 2, 3, 7, 8, 9, 42]"
      ]
     },
     "execution_count": 85,
     "metadata": {},
     "output_type": "execute_result"
    }
   ],
   "execution_count": 85
  },
  {
   "metadata": {
    "ExecuteTime": {
     "end_time": "2025-03-26T13:59:16.252430Z",
     "start_time": "2025-03-26T13:59:16.247130Z"
    }
   },
   "cell_type": "code",
   "source": [
    "# Count the number of elements in the list\n",
    "len(li)"
   ],
   "id": "ec9467bcbb096af2",
   "outputs": [
    {
     "data": {
      "text/plain": [
       "7"
      ]
     },
     "execution_count": 87,
     "metadata": {},
     "output_type": "execute_result"
    }
   ],
   "execution_count": 87
  },
  {
   "metadata": {
    "ExecuteTime": {
     "end_time": "2025-03-26T14:00:00.099187Z",
     "start_time": "2025-03-26T14:00:00.093652Z"
    }
   },
   "cell_type": "code",
   "source": [
    "# Count the number of 2s in the list\n",
    "len([i for i in li if i == 2])"
   ],
   "id": "313089881013c9de",
   "outputs": [
    {
     "data": {
      "text/plain": [
       "2"
      ]
     },
     "execution_count": 90,
     "metadata": {},
     "output_type": "execute_result"
    }
   ],
   "execution_count": 90
  },
  {
   "metadata": {
    "ExecuteTime": {
     "end_time": "2025-03-26T14:00:46.908120Z",
     "start_time": "2025-03-26T14:00:46.901637Z"
    }
   },
   "cell_type": "code",
   "source": "li.count(7)",
   "id": "9d47ec50490ea784",
   "outputs": [
    {
     "data": {
      "text/plain": [
       "1"
      ]
     },
     "execution_count": 93,
     "metadata": {},
     "output_type": "execute_result"
    }
   ],
   "execution_count": 93
  },
  {
   "metadata": {
    "ExecuteTime": {
     "end_time": "2025-03-26T14:01:40.759181Z",
     "start_time": "2025-03-26T14:01:40.752639Z"
    }
   },
   "cell_type": "code",
   "source": "li.index(9)",
   "id": "1cc2a08ca404bec2",
   "outputs": [
    {
     "data": {
      "text/plain": [
       "4"
      ]
     },
     "execution_count": 95,
     "metadata": {},
     "output_type": "execute_result"
    }
   ],
   "execution_count": 95
  },
  {
   "metadata": {
    "ExecuteTime": {
     "end_time": "2025-03-26T14:02:36.745128Z",
     "start_time": "2025-03-26T14:02:36.738435Z"
    }
   },
   "cell_type": "code",
   "source": "li.copy()",
   "id": "6d9d0b3e94cd1dcc",
   "outputs": [
    {
     "data": {
      "text/plain": [
       "[2, 3, 7, 8, 9, 42, 2]"
      ]
     },
     "execution_count": 96,
     "metadata": {},
     "output_type": "execute_result"
    }
   ],
   "execution_count": 96
  },
  {
   "metadata": {
    "ExecuteTime": {
     "end_time": "2025-03-26T14:02:59.019927Z",
     "start_time": "2025-03-26T14:02:58.994600Z"
    }
   },
   "cell_type": "code",
   "source": "",
   "id": "7053883698017081",
   "outputs": [
    {
     "ename": "AttributeError",
     "evalue": "'list' object has no attribute 'find'",
     "output_type": "error",
     "traceback": [
      "\u001B[31m---------------------------------------------------------------------------\u001B[39m",
      "\u001B[31mAttributeError\u001B[39m                            Traceback (most recent call last)",
      "\u001B[36mCell\u001B[39m\u001B[36m \u001B[39m\u001B[32mIn[97]\u001B[39m\u001B[32m, line 1\u001B[39m\n\u001B[32m----> \u001B[39m\u001B[32m1\u001B[39m \u001B[43mli\u001B[49m\u001B[43m.\u001B[49m\u001B[43mfind\u001B[49m(\u001B[32m9\u001B[39m)\n",
      "\u001B[31mAttributeError\u001B[39m: 'list' object has no attribute 'find'"
     ]
    }
   ],
   "execution_count": 97
  },
  {
   "metadata": {},
   "cell_type": "markdown",
   "source": [
    "kj# Set\n",
    "Create a set in Python with some items."
   ],
   "id": "25e3e6dbafc8e9a6"
  },
  {
   "metadata": {},
   "cell_type": "code",
   "outputs": [],
   "execution_count": null,
   "source": "",
   "id": "6401f1291fb814f1"
  },
  {
   "metadata": {
    "ExecuteTime": {
     "end_time": "2025-03-26T13:28:23.955676Z",
     "start_time": "2025-03-26T13:28:23.950373Z"
    }
   },
   "cell_type": "code",
   "source": [
    "set_example = {5, 6, 7, 2, 90, 24, 56}\n",
    "set_example"
   ],
   "id": "607691559e76a9d",
   "outputs": [
    {
     "data": {
      "text/plain": [
       "{2, 5, 6, 7, 24, 56, 90}"
      ]
     },
     "execution_count": 16,
     "metadata": {},
     "output_type": "execute_result"
    }
   ],
   "execution_count": 16
  },
  {
   "metadata": {
    "ExecuteTime": {
     "end_time": "2025-03-26T13:28:12.733123Z",
     "start_time": "2025-03-26T13:28:12.727105Z"
    }
   },
   "cell_type": "code",
   "source": "sorted(set_example)",
   "id": "f45b53989a2e0287",
   "outputs": [
    {
     "data": {
      "text/plain": [
       "[2, 5, 6, 7, 24, 56, 90]"
      ]
     },
     "execution_count": 15,
     "metadata": {},
     "output_type": "execute_result"
    }
   ],
   "execution_count": 15
  },
  {
   "metadata": {
    "ExecuteTime": {
     "end_time": "2025-03-26T13:28:54.335706Z",
     "start_time": "2025-03-26T13:28:54.330544Z"
    }
   },
   "cell_type": "code",
   "source": "8 in set_example",
   "id": "295b7cf94dfad047",
   "outputs": [
    {
     "data": {
      "text/plain": [
       "False"
      ]
     },
     "execution_count": 17,
     "metadata": {},
     "output_type": "execute_result"
    }
   ],
   "execution_count": 17
  },
  {
   "metadata": {
    "ExecuteTime": {
     "end_time": "2025-03-26T13:29:12.684456Z",
     "start_time": "2025-03-26T13:29:12.678549Z"
    }
   },
   "cell_type": "code",
   "source": "7 in set_example",
   "id": "cd01cb3805b951ba",
   "outputs": [
    {
     "data": {
      "text/plain": [
       "True"
      ]
     },
     "execution_count": 18,
     "metadata": {},
     "output_type": "execute_result"
    }
   ],
   "execution_count": 18
  },
  {
   "metadata": {
    "ExecuteTime": {
     "end_time": "2025-03-26T13:33:18.646537Z",
     "start_time": "2025-03-26T13:33:18.345301Z"
    }
   },
   "cell_type": "code",
   "source": "set_example[3]",
   "id": "1b53744132e092c2",
   "outputs": [
    {
     "ename": "TypeError",
     "evalue": "'set' object is not subscriptable",
     "output_type": "error",
     "traceback": [
      "\u001B[31m---------------------------------------------------------------------------\u001B[39m",
      "\u001B[31mTypeError\u001B[39m                                 Traceback (most recent call last)",
      "\u001B[36mCell\u001B[39m\u001B[36m \u001B[39m\u001B[32mIn[30]\u001B[39m\u001B[32m, line 1\u001B[39m\n\u001B[32m----> \u001B[39m\u001B[32m1\u001B[39m \u001B[43mset_example\u001B[49m\u001B[43m[\u001B[49m\u001B[32;43m3\u001B[39;49m\u001B[43m]\u001B[49m\n",
      "\u001B[31mTypeError\u001B[39m: 'set' object is not subscriptable"
     ]
    }
   ],
   "execution_count": 30
  },
  {
   "metadata": {
    "ExecuteTime": {
     "end_time": "2025-03-26T13:35:35.157026Z",
     "start_time": "2025-03-26T13:35:35.151893Z"
    }
   },
   "cell_type": "code",
   "source": "set_2 = {1, 2, 3, 4, 5}",
   "id": "b2592af19bead5f",
   "outputs": [],
   "execution_count": 36
  },
  {
   "metadata": {
    "ExecuteTime": {
     "end_time": "2025-03-26T13:34:21.098334Z",
     "start_time": "2025-03-26T13:34:21.092335Z"
    }
   },
   "cell_type": "code",
   "source": "set_example.union(set_2)",
   "id": "6dc76f03c21389da",
   "outputs": [
    {
     "data": {
      "text/plain": [
       "{1, 2, 3, 4, 5, 6, 7, 24, 56, 90}"
      ]
     },
     "execution_count": 33,
     "metadata": {},
     "output_type": "execute_result"
    }
   ],
   "execution_count": 33
  },
  {
   "metadata": {
    "ExecuteTime": {
     "end_time": "2025-03-26T13:34:44.052738Z",
     "start_time": "2025-03-26T13:34:44.047526Z"
    }
   },
   "cell_type": "code",
   "source": "set_example.intersection(set_2)",
   "id": "61e2ca0d794cb3fa",
   "outputs": [
    {
     "data": {
      "text/plain": [
       "{2, 5}"
      ]
     },
     "execution_count": 34,
     "metadata": {},
     "output_type": "execute_result"
    }
   ],
   "execution_count": 34
  },
  {
   "metadata": {
    "ExecuteTime": {
     "end_time": "2025-03-26T13:35:37.808849Z",
     "start_time": "2025-03-26T13:35:37.803262Z"
    }
   },
   "cell_type": "code",
   "source": "set_example or set_2",
   "id": "1b83fb37255acea3",
   "outputs": [
    {
     "data": {
      "text/plain": [
       "{2, 5, 6, 7, 24, 56, 90}"
      ]
     },
     "execution_count": 37,
     "metadata": {},
     "output_type": "execute_result"
    }
   ],
   "execution_count": 37
  },
  {
   "metadata": {
    "ExecuteTime": {
     "end_time": "2025-03-26T13:35:51.298113Z",
     "start_time": "2025-03-26T13:35:51.292564Z"
    }
   },
   "cell_type": "code",
   "source": "set_example and set_2",
   "id": "2dac695cdf90cee1",
   "outputs": [
    {
     "data": {
      "text/plain": [
       "{1, 2, 3, 4, 5}"
      ]
     },
     "execution_count": 38,
     "metadata": {},
     "output_type": "execute_result"
    }
   ],
   "execution_count": 38
  },
  {
   "metadata": {
    "ExecuteTime": {
     "end_time": "2025-03-26T13:36:18.779448Z",
     "start_time": "2025-03-26T13:36:18.773840Z"
    }
   },
   "cell_type": "code",
   "source": "set_example | set_2",
   "id": "8e95ec521ffb50e0",
   "outputs": [
    {
     "data": {
      "text/plain": [
       "{1, 2, 3, 4, 5, 6, 7, 24, 56, 90}"
      ]
     },
     "execution_count": 39,
     "metadata": {},
     "output_type": "execute_result"
    }
   ],
   "execution_count": 39
  },
  {
   "metadata": {
    "ExecuteTime": {
     "end_time": "2025-03-26T13:37:00.289250Z",
     "start_time": "2025-03-26T13:37:00.283589Z"
    }
   },
   "cell_type": "code",
   "source": "set_example & set_2",
   "id": "e157084a186f436",
   "outputs": [
    {
     "data": {
      "text/plain": [
       "{2, 5}"
      ]
     },
     "execution_count": 40,
     "metadata": {},
     "output_type": "execute_result"
    }
   ],
   "execution_count": 40
  },
  {
   "metadata": {
    "ExecuteTime": {
     "end_time": "2025-03-26T13:37:36.649473Z",
     "start_time": "2025-03-26T13:37:36.643248Z"
    }
   },
   "cell_type": "code",
   "source": "set_example ^ set_2",
   "id": "32cb64ffd801db2c",
   "outputs": [
    {
     "data": {
      "text/plain": [
       "{1, 3, 4, 6, 7, 24, 56, 90}"
      ]
     },
     "execution_count": 42,
     "metadata": {},
     "output_type": "execute_result"
    }
   ],
   "execution_count": 42
  },
  {
   "metadata": {
    "ExecuteTime": {
     "end_time": "2025-03-26T13:38:04.555878Z",
     "start_time": "2025-03-26T13:38:04.549711Z"
    }
   },
   "cell_type": "code",
   "source": "set_example.difference(set_2)",
   "id": "21aa5b53d474d04d",
   "outputs": [
    {
     "data": {
      "text/plain": [
       "{6, 7, 24, 56, 90}"
      ]
     },
     "execution_count": 43,
     "metadata": {},
     "output_type": "execute_result"
    }
   ],
   "execution_count": 43
  },
  {
   "metadata": {
    "ExecuteTime": {
     "end_time": "2025-03-26T13:38:48.746557Z",
     "start_time": "2025-03-26T13:38:48.741918Z"
    }
   },
   "cell_type": "code",
   "source": "set_strings = {\"Győr\", \"Berlin\", \"Tokyo\", \"Budapest\", \"London\"}",
   "id": "695a62d31957e310",
   "outputs": [],
   "execution_count": 44
  },
  {
   "metadata": {
    "ExecuteTime": {
     "end_time": "2025-03-26T13:38:59.746745Z",
     "start_time": "2025-03-26T13:38:59.740934Z"
    }
   },
   "cell_type": "code",
   "source": "set_example | set_strings",
   "id": "794828954a62fcdc",
   "outputs": [
    {
     "data": {
      "text/plain": [
       "{2, 24, 5, 56, 6, 7, 90, 'Berlin', 'Budapest', 'Győr', 'London', 'Tokyo'}"
      ]
     },
     "execution_count": 45,
     "metadata": {},
     "output_type": "execute_result"
    }
   ],
   "execution_count": 45
  },
  {
   "metadata": {
    "ExecuteTime": {
     "end_time": "2025-03-26T13:39:36.119261Z",
     "start_time": "2025-03-26T13:39:36.114503Z"
    }
   },
   "cell_type": "code",
   "source": "set_example.add(5.67)",
   "id": "a7baae9bdec1d35d",
   "outputs": [],
   "execution_count": 46
  },
  {
   "metadata": {
    "ExecuteTime": {
     "end_time": "2025-03-26T13:39:58.762130Z",
     "start_time": "2025-03-26T13:39:58.756876Z"
    }
   },
   "cell_type": "code",
   "source": "set_example",
   "id": "81b2e70d94582d0c",
   "outputs": [
    {
     "data": {
      "text/plain": [
       "{2, 5, 5.67, 6, 7, 24, 56, 90}"
      ]
     },
     "execution_count": 47,
     "metadata": {},
     "output_type": "execute_result"
    }
   ],
   "execution_count": 47
  },
  {
   "metadata": {
    "ExecuteTime": {
     "end_time": "2025-03-26T13:57:30.778514Z",
     "start_time": "2025-03-26T13:57:30.772564Z"
    }
   },
   "cell_type": "code",
   "source": [
    "set_example.add(5)\n",
    "set_example"
   ],
   "id": "205067f0213115a2",
   "outputs": [
    {
     "data": {
      "text/plain": [
       "{2, 5, 5.67, 6, 7, 24, 56, 90}"
      ]
     },
     "execution_count": 83,
     "metadata": {},
     "output_type": "execute_result"
    }
   ],
   "execution_count": 83
  },
  {
   "metadata": {
    "ExecuteTime": {
     "end_time": "2025-03-26T13:40:04.157963Z",
     "start_time": "2025-03-26T13:40:04.152139Z"
    }
   },
   "cell_type": "code",
   "source": "5.67 in set_example",
   "id": "53f4fe2de77dc944",
   "outputs": [
    {
     "data": {
      "text/plain": [
       "True"
      ]
     },
     "execution_count": 48,
     "metadata": {},
     "output_type": "execute_result"
    }
   ],
   "execution_count": 48
  },
  {
   "metadata": {},
   "cell_type": "markdown",
   "source": "",
   "id": "26ad3c4cede4b247"
  },
  {
   "metadata": {},
   "cell_type": "markdown",
   "source": "# Dictionaries",
   "id": "6110c15f00438dbf"
  },
  {
   "metadata": {
    "ExecuteTime": {
     "end_time": "2025-03-26T13:42:14.684332Z",
     "start_time": "2025-03-26T13:42:14.678146Z"
    }
   },
   "cell_type": "code",
   "source": "dictionary = {\"one\": 1, \"two\": 2, \"three\": 3}",
   "id": "3ee322720e42ea23",
   "outputs": [],
   "execution_count": 49
  },
  {
   "metadata": {
    "ExecuteTime": {
     "end_time": "2025-03-26T13:42:20.434888Z",
     "start_time": "2025-03-26T13:42:20.429498Z"
    }
   },
   "cell_type": "code",
   "source": "dictionary[\"one\"]",
   "id": "6cdad1849c497e6f",
   "outputs": [
    {
     "data": {
      "text/plain": [
       "1"
      ]
     },
     "execution_count": 50,
     "metadata": {},
     "output_type": "execute_result"
    }
   ],
   "execution_count": 50
  },
  {
   "metadata": {
    "ExecuteTime": {
     "end_time": "2025-03-26T13:43:17.618304Z",
     "start_time": "2025-03-26T13:43:17.611296Z"
    }
   },
   "cell_type": "code",
   "source": "dictionary[\"four\"] = 4",
   "id": "698186bd342802a5",
   "outputs": [],
   "execution_count": 52
  },
  {
   "metadata": {
    "ExecuteTime": {
     "end_time": "2025-03-26T13:43:21.948032Z",
     "start_time": "2025-03-26T13:43:21.941762Z"
    }
   },
   "cell_type": "code",
   "source": "dictionary",
   "id": "daf2695a8011668e",
   "outputs": [
    {
     "data": {
      "text/plain": [
       "{'one': 1, 'two': 2, 'three': 3, 'four': 4}"
      ]
     },
     "execution_count": 53,
     "metadata": {},
     "output_type": "execute_result"
    }
   ],
   "execution_count": 53
  },
  {
   "metadata": {
    "ExecuteTime": {
     "end_time": "2025-03-26T13:43:34.791622Z",
     "start_time": "2025-03-26T13:43:34.787367Z"
    }
   },
   "cell_type": "code",
   "source": "dictionary[5.67] = 4",
   "id": "436e3036a31270a3",
   "outputs": [],
   "execution_count": 54
  },
  {
   "metadata": {
    "ExecuteTime": {
     "end_time": "2025-03-26T13:43:48.617315Z",
     "start_time": "2025-03-26T13:43:48.611686Z"
    }
   },
   "cell_type": "code",
   "source": "dictionary",
   "id": "d9f4f13353d4b378",
   "outputs": [
    {
     "data": {
      "text/plain": [
       "{'one': 1, 'two': 2, 'three': 3, 'four': 4, 5.67: 4}"
      ]
     },
     "execution_count": 55,
     "metadata": {},
     "output_type": "execute_result"
    }
   ],
   "execution_count": 55
  },
  {
   "metadata": {
    "ExecuteTime": {
     "end_time": "2025-03-26T13:46:00.020224Z",
     "start_time": "2025-03-26T13:46:00.014089Z"
    }
   },
   "cell_type": "code",
   "source": "result_dicitonary = {1: \"こんにちは\", 3: \"Hello\", 4: \"Guten Tag\", 5: \"Bonjour\"}",
   "id": "90daee3596de9cbe",
   "outputs": [],
   "execution_count": 59
  },
  {
   "metadata": {
    "ExecuteTime": {
     "end_time": "2025-03-26T13:45:11.578656Z",
     "start_time": "2025-03-26T13:45:11.574616Z"
    }
   },
   "cell_type": "code",
   "source": [
    "def greeting(val):\n",
    "    return result_dicitonary[val]"
   ],
   "id": "84cf7902c48f985a",
   "outputs": [],
   "execution_count": 57
  },
  {
   "metadata": {
    "ExecuteTime": {
     "end_time": "2025-03-26T13:46:04.906857Z",
     "start_time": "2025-03-26T13:46:04.899765Z"
    }
   },
   "cell_type": "code",
   "source": "greeting(1)",
   "id": "787bc979c16105aa",
   "outputs": [
    {
     "data": {
      "text/plain": [
       "'こんにちは'"
      ]
     },
     "execution_count": 60,
     "metadata": {},
     "output_type": "execute_result"
    }
   ],
   "execution_count": 60
  },
  {
   "metadata": {
    "ExecuteTime": {
     "end_time": "2025-03-26T13:48:12.314368Z",
     "start_time": "2025-03-26T13:48:12.308745Z"
    }
   },
   "cell_type": "code",
   "source": "detection_dictionary = {\"tumor\": [0.67, 0.96], \"bone\": [0.56, 0.95], \"brain\": [0.78, 0.89, 0.34, 0.12]}",
   "id": "5ac11c9a15855b75",
   "outputs": [],
   "execution_count": 61
  },
  {
   "metadata": {
    "ExecuteTime": {
     "end_time": "2025-03-26T13:48:19.347346Z",
     "start_time": "2025-03-26T13:48:19.341229Z"
    }
   },
   "cell_type": "code",
   "source": "detection_dictionary[\"tumor\"]",
   "id": "108d44553283d296",
   "outputs": [
    {
     "data": {
      "text/plain": [
       "[0.67, 0.96]"
      ]
     },
     "execution_count": 62,
     "metadata": {},
     "output_type": "execute_result"
    }
   ],
   "execution_count": 62
  },
  {
   "metadata": {
    "ExecuteTime": {
     "end_time": "2025-03-26T13:49:11.993498Z",
     "start_time": "2025-03-26T13:49:11.987514Z"
    }
   },
   "cell_type": "code",
   "source": "detection_dictionary.keys()",
   "id": "616ae07c0c288d0c",
   "outputs": [
    {
     "data": {
      "text/plain": [
       "dict_keys(['tumor', 'bone', 'brain'])"
      ]
     },
     "execution_count": 63,
     "metadata": {},
     "output_type": "execute_result"
    }
   ],
   "execution_count": 63
  },
  {
   "metadata": {
    "ExecuteTime": {
     "end_time": "2025-03-26T13:49:24.546242Z",
     "start_time": "2025-03-26T13:49:24.540534Z"
    }
   },
   "cell_type": "code",
   "source": "detection_dictionary.values()",
   "id": "a8870eb3e87db26b",
   "outputs": [
    {
     "data": {
      "text/plain": [
       "dict_values([[0.67, 0.96], [0.56, 0.95], [0.78, 0.89, 0.34, 0.12]])"
      ]
     },
     "execution_count": 64,
     "metadata": {},
     "output_type": "execute_result"
    }
   ],
   "execution_count": 64
  },
  {
   "metadata": {
    "ExecuteTime": {
     "end_time": "2025-03-26T13:49:51.487794Z",
     "start_time": "2025-03-26T13:49:51.482199Z"
    }
   },
   "cell_type": "code",
   "source": "result_dicitonary.keys()",
   "id": "9bc9c94261f48de3",
   "outputs": [
    {
     "data": {
      "text/plain": [
       "dict_keys([1, 3, 4, 5])"
      ]
     },
     "execution_count": 65,
     "metadata": {},
     "output_type": "execute_result"
    }
   ],
   "execution_count": 65
  },
  {
   "metadata": {
    "ExecuteTime": {
     "end_time": "2025-03-26T13:49:56.496891Z",
     "start_time": "2025-03-26T13:49:56.491599Z"
    }
   },
   "cell_type": "code",
   "source": "result_dicitonary.values()",
   "id": "1a46ee19196fa92b",
   "outputs": [
    {
     "data": {
      "text/plain": [
       "dict_values(['こんにちは', 'Hello', 'Guten Tag', 'Bonjour'])"
      ]
     },
     "execution_count": 66,
     "metadata": {},
     "output_type": "execute_result"
    }
   ],
   "execution_count": 66
  },
  {
   "metadata": {
    "ExecuteTime": {
     "end_time": "2025-03-26T13:50:13.969534Z",
     "start_time": "2025-03-26T13:50:13.964503Z"
    }
   },
   "cell_type": "code",
   "source": "# X -> Y",
   "id": "31dfddd3dd8fa48e",
   "outputs": [],
   "execution_count": 67
  },
  {
   "metadata": {
    "ExecuteTime": {
     "end_time": "2025-03-26T13:50:24.227014Z",
     "start_time": "2025-03-26T13:50:24.221170Z"
    }
   },
   "cell_type": "code",
   "source": "result_dicitonary.items()",
   "id": "fc903b41fdad0e39",
   "outputs": [
    {
     "data": {
      "text/plain": [
       "dict_items([(1, 'こんにちは'), (3, 'Hello'), (4, 'Guten Tag'), (5, 'Bonjour')])"
      ]
     },
     "execution_count": 68,
     "metadata": {},
     "output_type": "execute_result"
    }
   ],
   "execution_count": 68
  },
  {
   "metadata": {},
   "cell_type": "markdown",
   "source": "",
   "id": "89197a4e92f4002b"
  },
  {
   "metadata": {},
   "cell_type": "markdown",
   "source": "## Tuples",
   "id": "7cb0f1056f0ffab7"
  },
  {
   "metadata": {
    "ExecuteTime": {
     "end_time": "2025-03-26T13:52:04.036733Z",
     "start_time": "2025-03-26T13:52:04.032034Z"
    }
   },
   "cell_type": "code",
   "source": "tu_1 = (1, 2, 3, 4, 5)",
   "id": "827576869393f83d",
   "outputs": [],
   "execution_count": 69
  },
  {
   "metadata": {
    "ExecuteTime": {
     "end_time": "2025-03-26T13:52:15.504576Z",
     "start_time": "2025-03-26T13:52:15.499535Z"
    }
   },
   "cell_type": "code",
   "source": "tu_1[2]",
   "id": "fb0a0f0b982298ea",
   "outputs": [
    {
     "data": {
      "text/plain": [
       "3"
      ]
     },
     "execution_count": 70,
     "metadata": {},
     "output_type": "execute_result"
    }
   ],
   "execution_count": 70
  },
  {
   "metadata": {
    "ExecuteTime": {
     "end_time": "2025-03-26T13:52:21.173341Z",
     "start_time": "2025-03-26T13:52:21.166157Z"
    }
   },
   "cell_type": "code",
   "source": "tu_1[2:4]",
   "id": "f2f61b2551ae6331",
   "outputs": [
    {
     "data": {
      "text/plain": [
       "(3, 4)"
      ]
     },
     "execution_count": 71,
     "metadata": {},
     "output_type": "execute_result"
    }
   ],
   "execution_count": 71
  },
  {
   "metadata": {
    "ExecuteTime": {
     "end_time": "2025-03-26T13:52:29.754892Z",
     "start_time": "2025-03-26T13:52:29.731204Z"
    }
   },
   "cell_type": "code",
   "source": "tu_1[2] = 6",
   "id": "e893ebf3db3728ef",
   "outputs": [
    {
     "ename": "TypeError",
     "evalue": "'tuple' object does not support item assignment",
     "output_type": "error",
     "traceback": [
      "\u001B[31m---------------------------------------------------------------------------\u001B[39m",
      "\u001B[31mTypeError\u001B[39m                                 Traceback (most recent call last)",
      "\u001B[36mCell\u001B[39m\u001B[36m \u001B[39m\u001B[32mIn[72]\u001B[39m\u001B[32m, line 1\u001B[39m\n\u001B[32m----> \u001B[39m\u001B[32m1\u001B[39m \u001B[43mtu_1\u001B[49m\u001B[43m[\u001B[49m\u001B[32;43m2\u001B[39;49m\u001B[43m]\u001B[49m = \u001B[32m6\u001B[39m\n",
      "\u001B[31mTypeError\u001B[39m: 'tuple' object does not support item assignment"
     ]
    }
   ],
   "execution_count": 72
  },
  {
   "metadata": {
    "ExecuteTime": {
     "end_time": "2025-03-26T13:53:07.222622Z",
     "start_time": "2025-03-26T13:53:07.216700Z"
    }
   },
   "cell_type": "code",
   "source": "tu_1 + (6, 7, 8)",
   "id": "508969cecc5d098d",
   "outputs": [
    {
     "data": {
      "text/plain": [
       "(1, 2, 3, 4, 5, 6, 7, 8)"
      ]
     },
     "execution_count": 73,
     "metadata": {},
     "output_type": "execute_result"
    }
   ],
   "execution_count": 73
  },
  {
   "metadata": {
    "ExecuteTime": {
     "end_time": "2025-03-26T13:53:12.401329Z",
     "start_time": "2025-03-26T13:53:12.395669Z"
    }
   },
   "cell_type": "code",
   "source": "tu_1",
   "id": "c2374d49aa662cfa",
   "outputs": [
    {
     "data": {
      "text/plain": [
       "(1, 2, 3, 4, 5)"
      ]
     },
     "execution_count": 74,
     "metadata": {},
     "output_type": "execute_result"
    }
   ],
   "execution_count": 74
  },
  {
   "metadata": {
    "ExecuteTime": {
     "end_time": "2025-03-26T13:55:21.443414Z",
     "start_time": "2025-03-26T13:55:21.419536Z"
    }
   },
   "cell_type": "code",
   "source": [
    "for k in result_dicitonary.items():\n",
    "    print(k)\n",
    "    result_dicitonary[k+1] = \"one\""
   ],
   "id": "1a30d908de3a1c25",
   "outputs": [
    {
     "name": "stdout",
     "output_type": "stream",
     "text": [
      "(1, 'こんにちは')\n"
     ]
    },
    {
     "ename": "TypeError",
     "evalue": "can only concatenate tuple (not \"int\") to tuple",
     "output_type": "error",
     "traceback": [
      "\u001B[31m---------------------------------------------------------------------------\u001B[39m",
      "\u001B[31mTypeError\u001B[39m                                 Traceback (most recent call last)",
      "\u001B[36mCell\u001B[39m\u001B[36m \u001B[39m\u001B[32mIn[79]\u001B[39m\u001B[32m, line 3\u001B[39m\n\u001B[32m      1\u001B[39m \u001B[38;5;28;01mfor\u001B[39;00m k \u001B[38;5;129;01min\u001B[39;00m result_dicitonary.items():\n\u001B[32m      2\u001B[39m     \u001B[38;5;28mprint\u001B[39m(k)\n\u001B[32m----> \u001B[39m\u001B[32m3\u001B[39m     result_dicitonary[\u001B[43mk\u001B[49m\u001B[43m+\u001B[49m\u001B[32;43m1\u001B[39;49m] = \u001B[33m\"\u001B[39m\u001B[33mone\u001B[39m\u001B[33m\"\u001B[39m\n",
      "\u001B[31mTypeError\u001B[39m: can only concatenate tuple (not \"int\") to tuple"
     ]
    }
   ],
   "execution_count": 79
  },
  {
   "metadata": {
    "ExecuteTime": {
     "end_time": "2025-03-26T13:56:11.717905Z",
     "start_time": "2025-03-26T13:56:11.710778Z"
    }
   },
   "cell_type": "code",
   "source": [
    "for i in set_example:\n",
    "    print(i)"
   ],
   "id": "385da7795149e6a3",
   "outputs": [
    {
     "name": "stdout",
     "output_type": "stream",
     "text": [
      "2\n",
      "5\n",
      "6\n",
      "7\n",
      "56\n",
      "24\n",
      "90\n",
      "5.67\n"
     ]
    }
   ],
   "execution_count": 81
  },
  {
   "metadata": {},
   "cell_type": "code",
   "outputs": [],
   "execution_count": null,
   "source": "",
   "id": "a5990f7466afe195"
  },
  {
   "metadata": {
    "ExecuteTime": {
     "end_time": "2025-03-26T14:06:28.586437Z",
     "start_time": "2025-03-26T14:06:28.579409Z"
    }
   },
   "cell_type": "code",
   "source": "{x for x in li if x % 2 == 0}",
   "id": "51e0fdb0ba93e384",
   "outputs": [
    {
     "data": {
      "text/plain": [
       "{2, 8, 42}"
      ]
     },
     "execution_count": 101,
     "metadata": {},
     "output_type": "execute_result"
    }
   ],
   "execution_count": 101
  },
  {
   "metadata": {
    "ExecuteTime": {
     "end_time": "2025-03-26T14:06:50.947574Z",
     "start_time": "2025-03-26T14:06:50.942171Z"
    }
   },
   "cell_type": "code",
   "source": "{x: x*7 for x in li if x % 2 == 0}",
   "id": "ef2a47c77c35fa54",
   "outputs": [
    {
     "data": {
      "text/plain": [
       "{2: 14, 8: 56, 42: 294}"
      ]
     },
     "execution_count": 102,
     "metadata": {},
     "output_type": "execute_result"
    }
   ],
   "execution_count": 102
  },
  {
   "metadata": {},
   "cell_type": "code",
   "outputs": [],
   "execution_count": null,
   "source": "",
   "id": "b4e0ce7980ec76be"
  }
 ],
 "metadata": {
  "kernelspec": {
   "display_name": "Python 3",
   "language": "python",
   "name": "python3"
  },
  "language_info": {
   "codemirror_mode": {
    "name": "ipython",
    "version": 2
   },
   "file_extension": ".py",
   "mimetype": "text/x-python",
   "name": "python",
   "nbconvert_exporter": "python",
   "pygments_lexer": "ipython2",
   "version": "2.7.6"
  }
 },
 "nbformat": 4,
 "nbformat_minor": 5
}
